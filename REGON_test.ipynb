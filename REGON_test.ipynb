{
 "cells": [
  {
   "cell_type": "code",
   "execution_count": 1,
   "metadata": {},
   "outputs": [
    {
     "data": {
      "text/plain": [
       "'76pt83dhw5f66e7swu2w'"
      ]
     },
     "execution_count": 1,
     "metadata": {},
     "output_type": "execute_result"
    }
   ],
   "source": [
    "from litex.regon import REGONAPI\n",
    "\n",
    "SERVICE_URL = 'https://wyszukiwarkaregon.stat.gov.pl/wsBIR/UslugaBIRzewnPubl.svc'\n",
    "USER_KEY = 'c05e56bcff664fa889d1'\n",
    "\n",
    "api = REGONAPI(SERVICE_URL)\n",
    "api.login(USER_KEY)\n"
   ]
  },
  {
   "cell_type": "code",
   "execution_count": null,
   "metadata": {},
   "outputs": [],
   "source": []
  },
  {
   "cell_type": "code",
   "execution_count": 2,
   "metadata": {
    "collapsed": true
   },
   "outputs": [],
   "source": [
    "params = (\n",
    "    ('praw_regon14', 'REGON'),\n",
    "    ('praw_nip', 'NIP'),\n",
    "    ('praw_nazwa', 'Nazwa'),\n",
    "    ('praw_nazwaSkrocona', 'Nazwa skrócona'),\n",
    "    ('praw_numerWrejestrzeEwidencji', 'Nr w rej. ew.'),\n",
    "    ('praw_dataWpisuDoRejestruEwidencji', 'Data wpisu do rej. ew.'),\n",
    "    ('praw_dataPowstania', 'Data powstania'),\n",
    "    ('praw_dataRozpoczeciaDzialalnosci', 'Data rozpoczęcia działalności'),\n",
    "    ('praw_dataWpisuDoREGON', 'Data wpisu do REGON'),\n",
    "    ('praw_dataZawieszeniaDzialalnosci', 'Data zawieszenia działalności'),\n",
    "    ('praw_dataWznowieniaDzialalnosci', 'Data wznowienia działalności'),\n",
    "    ('praw_dataZaistnieniaZmiany', 'Data zaistnienia zmiany'),\n",
    "    ('praw_dataZakonczeniaDzialalnosci', 'Data zakończenia działalności'),\n",
    "    ('praw_dataSkresleniazRegon', 'Data skreślenia z REGON'),\n",
    "    ('praw_adSiedzKraj_Symbol', 'Państwo'),\n",
    "    ('praw_adSiedzWojewodztwo_Symbol', 'Województwo'),\n",
    "    ('praw_adSiedzPowiat_Symbol', 'Powiat'),\n",
    "    ('praw_adSiedzGmina_Symbol', 'Gmina'),\n",
    "    ('praw_adSiedzKodPocztowy', 'Kod pocztowy'),\n",
    "    ('praw_adSiedzMiejscowoscPoczty_Symbol', 'Poczta'),\n",
    "    ('praw_adSiedzMiejscowosc_Symbol', 'Miejscowość'),\n",
    "    ('praw_adSiedzUlica_Symbol', 'Ulica'),\n",
    "    ('praw_adSiedzNumerNieruchomosci', 'Nr domu'),\n",
    "    ('praw_adSiedzNumerLokalu', 'Nr lokalu'),\n",
    "    ('praw_adSiedzNietypoweMiejsceLokalizacji', 'Nietypowe miejsce'),\n",
    "    ('praw_numerTelefonu', 'Nr telefonu'),\n",
    "    ('praw_numerWewnetrznyTelefonu', 'Wew.'),\n",
    "    ('praw_numerFaksu', 'Fax'),\n",
    "    ('praw_adresEmail', 'E-mail'),\n",
    "    ('praw_adresStronyinternetowej', 'WWW'),\n",
    "    ('praw_adresEmail2', 'E-mail 2'),\n",
    "    ('praw_adSiedzKraj_Nazwa', 'Państwo'),\n",
    "    ('praw_adSiedzWojewodztwo_Nazwa', 'Województwo'),\n",
    "    ('praw_adSiedzPowiat_Nazwa', 'Powiat'),\n",
    "    ('praw_adSiedzGmina_Nazwa', 'Gmina'),\n",
    "    ('praw_adSiedzMiejscowosc_Nazwa', 'Miejscowość'),\n",
    "    ('praw_adSiedzMiejscowoscPoczty_Nazwa', 'Poczta'),\n",
    "    ('praw_adSiedzUlica_Nazwa', 'Ulica'),\n",
    "    ('praw_podstawowaFormaPrawna_Symbol', 'Podstawowa forma prawna'),\n",
    "    ('praw_szczegolnaFormaPrawna_Symbol', 'Szczególna forma prawna'),\n",
    "    ('praw_formaFinansowania_Symbol', 'Forma finansowania'),\n",
    "    ('praw_formaWlasnosci_Symbol', 'Forma własności'),\n",
    "    ('praw_organZalozycielski_Symbol', 'Organ założycielski'),\n",
    "    ('praw_organRejestrowy_Symbol', 'Organ rejestrowy'),\n",
    "    ('praw_rodzajRejestruEwidencji_Symbol', 'Rejestr ewidencji'),\n",
    "    ('praw_podstawowaFormaPrawna_Nazwa', 'Podstawowa forma prawna'),\n",
    "    ('praw_szczegolnaFormaPrawna_Nazwa', 'Szczególna forma prawna'),\n",
    "    ('praw_formaFinansowania_Nazwa', 'Forma finansowania'),\n",
    "    ('praw_formaWlasnosci_Nazwa', 'Forma własności'),\n",
    "    ('praw_organZalozycielski_Nazwa', 'Organ założycielski'),\n",
    "    ('praw_organRejestrowy_Nazwa', 'Organ rejestrowy'),\n",
    "    ('praw_rodzajRejestruEwidencji_Nazwa', 'Rejestr ewidencji'),\n",
    "    ('praw_jednostekLokalnych', 'Jednostek lokalnych')\n",
    ")"
   ]
  },
  {
   "cell_type": "markdown",
   "metadata": {},
   "source": [
    "\"\"\"def search_nip(client_nip):\n",
    "    api = REGONAPI(SERVICE_URL)\n",
    "    api.login(USER_KEY)\n",
    "    result = api.search(nip=client_nip, detailed=True)\n",
    "    print(str(result[0].Nazwa))\n",
    "    print(str(result[0].Regon))\n",
    "    print(str)\n",
    "    \n",
    "    api.logout()\"\"\""
   ]
  },
  {
   "cell_type": "code",
   "execution_count": 3,
   "metadata": {},
   "outputs": [],
   "source": [
    "def pelny_opis(regon):\n",
    "    result = api.full_report(regon=regon, report_name='PublDaneRaportPrawna')\n",
    "    for param in params:\n",
    "        try:\n",
    "            print('{:>30}: {:}'.format(param[1], result[0][param[0]]))\n",
    "        except:\n",
    "            print('{:>30}: {}'.format(param[1], '---'))"
   ]
  },
  {
   "cell_type": "code",
   "execution_count": 4,
   "metadata": {},
   "outputs": [
    {
     "name": "stdout",
     "output_type": "stream",
     "text": [
      "                         REGON: 1077887800000\n",
      "                           NIP: 5261008546\n",
      "                         Nazwa: BANK BGŻ BNP PARIBAS SPÓŁKA AKCYJNA\n",
      "                Nazwa skrócona: \n",
      "                 Nr w rej. ew.: 11571\n",
      "        Data wpisu do rej. ew.: ---\n",
      "                Data powstania: 1994-10-25\n",
      " Data rozpoczęcia działalności: 1994-10-25\n",
      "           Data wpisu do REGON: \n",
      " Data zawieszenia działalności: \n",
      "  Data wznowienia działalności: \n",
      "       Data zaistnienia zmiany: 2018-04-18\n",
      " Data zakończenia działalności: \n",
      "       Data skreślenia z REGON: \n",
      "                       Państwo: PL\n",
      "                   Województwo: 14\n",
      "                        Powiat: 65\n",
      "                         Gmina: 188\n",
      "                  Kod pocztowy: 1211\n",
      "                        Poczta: 919884\n",
      "                   Miejscowość: 919884\n",
      "                         Ulica: 8157\n",
      "                       Nr domu: 10/16\n",
      "                     Nr lokalu: \n",
      "             Nietypowe miejsce: \n",
      "                   Nr telefonu: \n",
      "                          Wew.: \n",
      "                           Fax: \n",
      "                        E-mail: \n",
      "                           WWW: \n",
      "                      E-mail 2: \n",
      "                       Państwo: POLSKA\n",
      "                   Województwo: MAZOWIECKIE\n",
      "                        Powiat: m. st. Warszawa\n",
      "                         Gmina: Wola\n",
      "                   Miejscowość: Warszawa\n",
      "                        Poczta: Warszawa\n",
      "                         Ulica: ul. Marcina Kasprzaka\n",
      "       Podstawowa forma prawna: 1\n",
      "       Szczególna forma prawna: 116\n",
      "            Forma finansowania: 1\n",
      "               Forma własności: 216\n",
      "           Organ założycielski: \n",
      "              Organ rejestrowy: 71010040\n",
      "             Rejestr ewidencji: 138\n",
      "       Podstawowa forma prawna: OSOBA PRAWNA\n",
      "       Szczególna forma prawna: SPÓŁKI AKCYJNE\n",
      "            Forma finansowania: JEDNOSTKA SAMOFINANSUJĄCA NIE BĘDĄCA JEDNOSTKĄ BUDŻETOWĄ LUB SAMORZĄDOWYM ZAKŁADEM BUDŻETOWYM\n",
      "               Forma własności: WŁASNOŚĆ ZAGRANICZNA\n",
      "           Organ założycielski: \n",
      "              Organ rejestrowy: SĄD REJONOWY DLA M.ST.WARSZAWY W WARSZAWIE,XII WYDZIAŁ GOSPODARCZY KRAJOWEGO REJESTRU SĄDOWEGO\n",
      "             Rejestr ewidencji: REJESTR PRZEDSIĘBIORCÓW\n",
      "           Jednostek lokalnych: 745\n"
     ]
    }
   ],
   "source": [
    "pelny_opis('01077887800000') # BGŻ BNP Paribas"
   ]
  },
  {
   "cell_type": "code",
   "execution_count": 5,
   "metadata": {},
   "outputs": [
    {
     "name": "stdout",
     "output_type": "stream",
     "text": [
      "                         REGON: 33150100000\n",
      "                           NIP: 5261040828\n",
      "                         Nazwa: GŁÓWNY URZĄD STATYSTYCZNY\n",
      "                Nazwa skrócona: GUS\n",
      "                 Nr w rej. ew.: \n",
      "        Data wpisu do rej. ew.: ---\n",
      "                Data powstania: 1975-12-15\n",
      " Data rozpoczęcia działalności: 1975-12-15\n",
      "           Data wpisu do REGON: \n",
      " Data zawieszenia działalności: \n",
      "  Data wznowienia działalności: \n",
      "       Data zaistnienia zmiany: 2013-04-22\n",
      " Data zakończenia działalności: \n",
      "       Data skreślenia z REGON: \n",
      "                       Państwo: PL\n",
      "                   Województwo: 14\n",
      "                        Powiat: 65\n",
      "                         Gmina: 108\n",
      "                  Kod pocztowy: 925\n",
      "                        Poczta: 919810\n",
      "                   Miejscowość: 919810\n",
      "                         Ulica: 38299\n",
      "                       Nr domu: 208\n",
      "                     Nr lokalu: \n",
      "             Nietypowe miejsce: \n",
      "                   Nr telefonu: 6083000\n",
      "                          Wew.: \n",
      "                           Fax: 226083863\n",
      "                        E-mail: dgsek@stat.gov.pl\n",
      "                           WWW: www.stat.gov.pl\n",
      "                      E-mail 2: \n",
      "                       Państwo: POLSKA\n",
      "                   Województwo: MAZOWIECKIE\n",
      "                        Powiat: m. st. Warszawa\n",
      "                         Gmina: Śródmieście\n",
      "                   Miejscowość: Warszawa\n",
      "                        Poczta: Warszawa\n",
      "                         Ulica: Aleja Niepodległości\n",
      "       Podstawowa forma prawna: 2\n",
      "       Szczególna forma prawna: 401\n",
      "            Forma finansowania: 2\n",
      "               Forma własności: 111\n",
      "           Organ założycielski: 50000000\n",
      "              Organ rejestrowy: \n",
      "             Rejestr ewidencji: 0\n",
      "       Podstawowa forma prawna: JEDNOSTKA ORGANIZACYJNA NIEMAJĄCA OSOBOWOŚCI PRAWNEJ\n",
      "       Szczególna forma prawna: ORGANY WŁADZY, ADMINISTRACJI RZĄDOWEJ\n",
      "            Forma finansowania: JEDNOSTKA BUDŻETOWA\n",
      "               Forma własności: WŁASNOŚĆ SKARBU PAŃSTWA\n",
      "           Organ założycielski: PREZES GŁÓWNEGO URZĘDU STATYSTYCZNEGO\n",
      "              Organ rejestrowy: \n",
      "             Rejestr ewidencji: PODMIOTY UTWORZONE Z MOCY USTAWY\n",
      "           Jednostek lokalnych: 0\n"
     ]
    }
   ],
   "source": [
    "pelny_opis('00033150100000') # GŁówny Urząd Statystyczny"
   ]
  },
  {
   "cell_type": "code",
   "execution_count": 6,
   "metadata": {},
   "outputs": [
    {
     "name": "stdout",
     "output_type": "stream",
     "text": [
      "                         REGON: 36314318400000\n",
      "                           NIP: 5223046987\n",
      "                         Nazwa: MEEATIE SPÓŁKA Z OGRANICZONĄ ODPOWIEDZIALNOŚCIĄ\n",
      "                Nazwa skrócona: \n",
      "                 Nr w rej. ew.: 589015\n",
      "        Data wpisu do rej. ew.: ---\n",
      "                Data powstania: 2015-12-03\n",
      " Data rozpoczęcia działalności: 2015-12-03\n",
      "           Data wpisu do REGON: 2015-12-03\n",
      " Data zawieszenia działalności: \n",
      "  Data wznowienia działalności: \n",
      "       Data zaistnienia zmiany: 2017-03-16\n",
      " Data zakończenia działalności: \n",
      "       Data skreślenia z REGON: \n",
      "                       Państwo: PL\n",
      "                   Województwo: 14\n",
      "                        Powiat: 65\n",
      "                         Gmina: 28\n",
      "                  Kod pocztowy: 1315\n",
      "                        Poczta: 988780\n",
      "                   Miejscowość: 988780\n",
      "                         Ulica: 10726\n",
      "                       Nr domu: 14B\n",
      "                     Nr lokalu: 30\n",
      "             Nietypowe miejsce: \n",
      "                   Nr telefonu: \n",
      "                          Wew.: \n",
      "                           Fax: \n",
      "                        E-mail: \n",
      "                           WWW: \n",
      "                      E-mail 2: \n",
      "                       Państwo: POLSKA\n",
      "                   Województwo: MAZOWIECKIE\n",
      "                        Powiat: m. st. Warszawa\n",
      "                         Gmina: Bemowo\n",
      "                   Miejscowość: Warszawa\n",
      "                        Poczta: Warszawa\n",
      "                         Ulica: ul. Lazurowa\n",
      "       Podstawowa forma prawna: 1\n",
      "       Szczególna forma prawna: 117\n",
      "            Forma finansowania: 1\n",
      "               Forma własności: 214\n",
      "           Organ założycielski: \n",
      "              Organ rejestrowy: 71010040\n",
      "             Rejestr ewidencji: 138\n",
      "       Podstawowa forma prawna: OSOBA PRAWNA\n",
      "       Szczególna forma prawna: SPÓŁKI Z OGRANICZONĄ ODPOWIEDZIALNOŚCIĄ\n",
      "            Forma finansowania: JEDNOSTKA SAMOFINANSUJĄCA NIE BĘDĄCA JEDNOSTKĄ BUDŻETOWĄ LUB SAMORZĄDOWYM ZAKŁADEM BUDŻETOWYM\n",
      "               Forma własności: WŁASNOŚĆ KRAJOWYCH OSÓB FIZYCZNYCH\n",
      "           Organ założycielski: \n",
      "              Organ rejestrowy: SĄD REJONOWY DLA M.ST.WARSZAWY W WARSZAWIE,XII WYDZIAŁ GOSPODARCZY KRAJOWEGO REJESTRU SĄDOWEGO\n",
      "             Rejestr ewidencji: REJESTR PRZEDSIĘBIORCÓW\n",
      "           Jednostek lokalnych: 0\n"
     ]
    }
   ],
   "source": [
    "pelny_opis('36314318400000') # Meeatie"
   ]
  },
  {
   "cell_type": "code",
   "execution_count": 7,
   "metadata": {},
   "outputs": [
    {
     "data": {
      "text/plain": [
       "True"
      ]
     },
     "execution_count": 7,
     "metadata": {},
     "output_type": "execute_result"
    }
   ],
   "source": [
    "api.logout()"
   ]
  },
  {
   "cell_type": "markdown",
   "metadata": {},
   "source": [
    "\"\"\"praw_regon14\n",
    "praw_nip\n",
    "praw_nazwa\n",
    "praw_nazwaSkrocona\n",
    "praw_numerWrejestrzeEwidencji\n",
    "praw_dataWpisuDoRejestruEwidencji\n",
    "praw_dataPowstania\n",
    "praw_dataRozpoczeciaDzialalnosci\n",
    "praw_dataWpisuDoREGON\n",
    "praw_dataZawieszeniaDzialalnosci\n",
    "praw_dataWznowieniaDzialalnosci\n",
    "praw_dataZaistnieniaZmiany\n",
    "praw_dataZakonczeniaDzialalnosci\n",
    "praw_dataSkresleniazRegon\n",
    "praw_adSiedzKraj_Symbol\n",
    "praw_adSiedzWojewodztwo_Symbol\n",
    "praw_adSiedzPowiat_Symbol\n",
    "praw_adSiedzGmina_Symbol\n",
    "praw_adSiedzKodPocztowy\n",
    "praw_adSiedzMiejscowoscPoczty_Symbol\n",
    "praw_adSiedzMiejscowosc_Symbol\n",
    "praw_adSiedzUlica_Symbol\n",
    "praw_adSiedzNumerNieruchomosci\n",
    "praw_adSiedzNumerLokalu\n",
    "praw_adSiedzNietypoweMiejsceLokalizacji\n",
    "praw_numerTelefonu\n",
    "praw_numerWewnetrznyTelefonu\n",
    "praw_numerFaksu\n",
    "praw_adresEmail\n",
    "praw_adresStronyinternetowej\n",
    "praw_adresEmail2\n",
    "praw_adSiedzKraj_Nazwa\n",
    "praw_adSiedzWojewodztwo_Nazwa\n",
    "praw_adSiedzPowiat_Nazwa\n",
    "praw_adSiedzGmina_Nazwa\n",
    "praw_adSiedzMiejscowosc_Nazwa\n",
    "praw_adSiedzMiejscowoscPoczty_Nazwa\n",
    "praw_adSiedzUlica_Nazwa\n",
    "praw_podstawowaFormaPrawna_Symbol\n",
    "praw_szczegolnaFormaPrawna_Symbol\n",
    "praw_formaFinansowania_Symbol\n",
    "praw_formaWlasnosci_Symbol\n",
    "praw_organZalozycielski_Symbol\n",
    "praw_organRejestrowy_Symbol\n",
    "praw_rodzajRejestruEwidencji_Symbol\n",
    "praw_podstawowaFormaPrawna_Nazwa\n",
    "praw_szczegolnaFormaPrawna_Nazwa\n",
    "praw_formaFinansowania_Nazwa\n",
    "praw_formaWlasnosci_Nazwa\n",
    "praw_organZalozycielski_Nazwa\n",
    "praw_organRejestrowy_Nazwa\n",
    "praw_rodzajRejestruEwidencji_Nazwa\n",
    "praw_jednostekLokalnych\"\"\""
   ]
  }
 ],
 "metadata": {
  "kernelspec": {
   "display_name": "Python 3",
   "language": "python",
   "name": "python3"
  },
  "language_info": {
   "codemirror_mode": {
    "name": "ipython",
    "version": 3
   },
   "file_extension": ".py",
   "mimetype": "text/x-python",
   "name": "python",
   "nbconvert_exporter": "python",
   "pygments_lexer": "ipython3",
   "version": "3.6.2"
  }
 },
 "nbformat": 4,
 "nbformat_minor": 2
}
